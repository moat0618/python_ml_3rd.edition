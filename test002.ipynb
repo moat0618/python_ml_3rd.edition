{
 "cells": [
  {
   "cell_type": "code",
   "execution_count": 2,
   "id": "bb1353d4",
   "metadata": {},
   "outputs": [],
   "source": [
    "import openpyxl"
   ]
  },
  {
   "cell_type": "code",
   "execution_count": 3,
   "id": "ae43a1c7",
   "metadata": {},
   "outputs": [
    {
     "name": "stdout",
     "output_type": "stream",
     "text": [
      "<class 'openpyxl.workbook.workbook.Workbook'>\n"
     ]
    }
   ],
   "source": [
    "book = openpyxl.Workbook()\n",
    "print(type(book))"
   ]
  },
  {
   "cell_type": "code",
   "execution_count": 14,
   "id": "e17aec9f",
   "metadata": {},
   "outputs": [
    {
     "name": "stdout",
     "output_type": "stream",
     "text": [
      "<class 'openpyxl.workbook.workbook.Workbook'>\n"
     ]
    }
   ],
   "source": [
    "book = openpyxl.Workbook()\n",
    "print(type(openpyxl.Workbook()))\n",
    "# print(type(openpyxl.workbook.workbook.Workbook))"
   ]
  },
  {
   "cell_type": "code",
   "execution_count": 4,
   "id": "2988c18d",
   "metadata": {},
   "outputs": [
    {
     "name": "stdout",
     "output_type": "stream",
     "text": [
      "<class 'openpyxl.worksheet.worksheet.Worksheet'>\n"
     ]
    }
   ],
   "source": [
    "sheet = book.active\n",
    "print(type(sheet))"
   ]
  },
  {
   "cell_type": "code",
   "execution_count": 5,
   "id": "96961110",
   "metadata": {},
   "outputs": [
    {
     "name": "stdout",
     "output_type": "stream",
     "text": [
      "<class 'method'>\n"
     ]
    }
   ],
   "source": [
    "sheet.cell(column=1, row=1, value='hoge')\n",
    "print(type(sheet.cell))"
   ]
  },
  {
   "cell_type": "code",
   "execution_count": 7,
   "id": "abc24881",
   "metadata": {},
   "outputs": [
    {
     "name": "stdout",
     "output_type": "stream",
     "text": [
      "<class 'str'>\n"
     ]
    }
   ],
   "source": [
    "value_1 = sheet.cell(column=1, row=1).value\n",
    "print(type(value_1))"
   ]
  },
  {
   "cell_type": "code",
   "execution_count": 8,
   "id": "9ba65600",
   "metadata": {},
   "outputs": [
    {
     "name": "stdout",
     "output_type": "stream",
     "text": [
      "<class 'module'>\n"
     ]
    }
   ],
   "source": [
    "print(type(openpyxl))"
   ]
  },
  {
   "cell_type": "code",
   "execution_count": 15,
   "id": "9449b9f9",
   "metadata": {},
   "outputs": [
    {
     "name": "stdout",
     "output_type": "stream",
     "text": [
      "<class 'openpyxl.worksheet.worksheet.Worksheet'>\n"
     ]
    }
   ],
   "source": [
    "book.worksheets[0]\n",
    "print(type(book.worksheets[0]))"
   ]
  },
  {
   "cell_type": "markdown",
   "id": "b40585c5",
   "metadata": {},
   "source": [
    "- openpyxl : module。いろいろ入っとるやつ\n",
    "- book : インスタンスかな。workbook()からうみだされた。workbook()はインスタンス化。\n",
    "- sheet : classだけど…。インスタンスだろうね。book.activeのactiveは~~メソッドなんだろうね、現在選択されているシートをインスタンスにしろという。~~ 属性なんだろうね。その属性の値がインスタンスだったという話。\n",
    "- cell : 関数。メソッド。\n",
    "\n",
    "インスタンスの中にたくさんのインスタンスがあるいうことかな。\n",
    "\n",
    "ちょっとまとめると、メソッドってのは、いろんな仕事をしちゃうタイプの概念なんだね\n",
    "1. 目的物に操作を加えることもあるし(セルの値を変える)\n",
    "1. 目的物の情報をとる (セルの値をとる)\n",
    "1. 新しいインスタンスを生み出す(workbook()やactive)"
   ]
  },
  {
   "cell_type": "markdown",
   "id": "5cf328e6",
   "metadata": {},
   "source": [
    "そして、pyplotはmatplotlib ライブラリの中のモジュール。"
   ]
  },
  {
   "cell_type": "markdown",
   "id": "4b426038",
   "metadata": {},
   "source": [
    "# モジュールとは？\n",
    "例えで言うなら「部品」や「歯車」に当たります。\n",
    "\n",
    "もっと具体的に言うなら拡張子が「.py」のファイルは全てPythonモジュールとなります。\n",
    "\n",
    "# パッケージとは？\n",
    "\n",
    "モジュールの集まったものがパッケージとなります。\n",
    "\n",
    "例えで言うなら、「箱」ですね。\n",
    "\n",
    "# ライブラリとは？\n",
    "\n",
    "パッケージをいくつかまとめてインストールできるようにしたものです。\n",
    "\n",
    "モジュール　＞　パッケージ　＞　ライブラリ みたいに理解すれば簡単ですね。\n",
    "\n",
    "https://qiita.com/yutaro50/items/f93893a2d7b23cb05461"
   ]
  },
  {
   "cell_type": "code",
   "execution_count": null,
   "id": "4a171b4e",
   "metadata": {},
   "outputs": [],
   "source": []
  }
 ],
 "metadata": {
  "kernelspec": {
   "display_name": "Python 3 (ipykernel)",
   "language": "python",
   "name": "python3"
  },
  "language_info": {
   "codemirror_mode": {
    "name": "ipython",
    "version": 3
   },
   "file_extension": ".py",
   "mimetype": "text/x-python",
   "name": "python",
   "nbconvert_exporter": "python",
   "pygments_lexer": "ipython3",
   "version": "3.11.1"
  }
 },
 "nbformat": 4,
 "nbformat_minor": 5
}
