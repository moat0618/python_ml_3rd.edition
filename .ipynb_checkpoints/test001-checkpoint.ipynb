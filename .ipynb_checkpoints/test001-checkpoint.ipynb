{
 "cells": [
  {
   "cell_type": "code",
   "execution_count": 1,
   "id": "d6e2b401",
   "metadata": {},
   "outputs": [
    {
     "name": "stdout",
     "output_type": "stream",
     "text": [
      "URL: https://archive.ics.uci.edu/ml/machine-learning-databases/iris/iris.data\n",
      "       0    1    2    3               4\n",
      "145  6.7  3.0  5.2  2.3  Iris-virginica\n",
      "146  6.3  2.5  5.0  1.9  Iris-virginica\n",
      "147  6.5  3.0  5.2  2.0  Iris-virginica\n",
      "148  6.2  3.4  5.4  2.3  Iris-virginica\n",
      "149  5.9  3.0  5.1  1.8  Iris-virginica\n"
     ]
    }
   ],
   "source": [
    "import os\n",
    "import numpy as np\n",
    "import pandas as pd\n",
    "\n",
    "s = r'https://archive.ics.uci.edu/ml/machine-learning-databases/iris/iris.data'\n",
    "print('URL:', s)\n",
    "\n",
    "df = pd.read_csv(s, header=None, encoding='utf-8')\n",
    "print(df.tail())"
   ]
  },
  {
   "cell_type": "code",
   "execution_count": 4,
   "id": "0eae5696",
   "metadata": {},
   "outputs": [
    {
     "name": "stdout",
     "output_type": "stream",
     "text": [
      "[[5.1 1.4]\n",
      " [4.9 1.4]\n",
      " [4.7 1.3]\n",
      " [4.6 1.5]\n",
      " [5.  1.4]\n",
      " [5.4 1.7]\n",
      " [4.6 1.4]\n",
      " [5.  1.5]\n",
      " [4.4 1.4]\n",
      " [4.9 1.5]]\n",
      "[0.32003709 0.57874493 0.33745093 0.30497208 0.28407497 0.67702618\n",
      " 0.28682451 0.09229911 0.15573585 0.18697316]\n"
     ]
    }
   ],
   "source": [
    "X = df.iloc[0:100, [0, 2]].values\n",
    "s = np.random.random_sample(X.shape[0])\n",
    "print(X[0:10])\n",
    "print(s[0:10])"
   ]
  },
  {
   "cell_type": "code",
   "execution_count": 5,
   "id": "aa8a2d40",
   "metadata": {},
   "outputs": [
    {
     "name": "stdout",
     "output_type": "stream",
     "text": [
      "(100, 2)\n",
      "(100,)\n"
     ]
    }
   ],
   "source": [
    "print(X.shape)\n",
    "print(s.shape)"
   ]
  },
  {
   "cell_type": "code",
   "execution_count": 6,
   "id": "fc29655a",
   "metadata": {},
   "outputs": [
    {
     "name": "stdout",
     "output_type": "stream",
     "text": [
      "[278.91131405 148.19666345]\n"
     ]
    }
   ],
   "source": [
    "print(np.dot(X.T, s))"
   ]
  },
  {
   "cell_type": "code",
   "execution_count": 7,
   "id": "f26d1b00",
   "metadata": {},
   "outputs": [
    {
     "name": "stdout",
     "output_type": "stream",
     "text": [
      "278.91131404703543\n"
     ]
    }
   ],
   "source": [
    "dd = np.dot(X[:,0],s)\n",
    "print(dd)"
   ]
  },
  {
   "cell_type": "code",
   "execution_count": 8,
   "id": "02687f95",
   "metadata": {},
   "outputs": [
    {
     "name": "stdout",
     "output_type": "stream",
     "text": [
      "2\n"
     ]
    }
   ],
   "source": [
    "print(X.shape[1])"
   ]
  },
  {
   "cell_type": "code",
   "execution_count": 10,
   "id": "8bf3f13d",
   "metadata": {},
   "outputs": [
    {
     "name": "stdout",
     "output_type": "stream",
     "text": [
      "[[0.94516179 0.68744246]\n",
      " [0.23920295 0.23332407]\n",
      " [0.38788094 0.5162145 ]\n",
      " [0.79616984 0.03049534]\n",
      " [0.0913209  0.91845948]\n",
      " [0.70367023 0.91687048]\n",
      " [0.51267339 0.48625392]\n",
      " [0.66840477 0.42930328]\n",
      " [0.28223618 0.39000376]\n",
      " [0.78681876 0.06467354]]\n",
      "(100, 2)\n"
     ]
    }
   ],
   "source": [
    "s_ = np.random.random_sample(X.shape)\n",
    "print(s_[0:10])\n",
    "print(s_.shape)"
   ]
  },
  {
   "cell_type": "code",
   "execution_count": 11,
   "id": "f462d8cd",
   "metadata": {},
   "outputs": [
    {
     "name": "stdout",
     "output_type": "stream",
     "text": [
      "[276.95012932 275.68219364]\n"
     ]
    }
   ],
   "source": [
    "dd = np.dot(X[:,0],s_)\n",
    "print(dd)"
   ]
  },
  {
   "cell_type": "code",
   "execution_count": 12,
   "id": "4eebd734",
   "metadata": {},
   "outputs": [
    {
     "name": "stdout",
     "output_type": "stream",
     "text": [
      "[[5.1 4.9 4.7 4.6 5.  5.4 4.6 5.  4.4 4.9 5.4 4.8 4.8 4.3 5.8 5.7 5.4 5.1\n",
      "  5.7 5.1 5.4 5.1 4.6 5.1 4.8 5.  5.  5.2 5.2 4.7 4.8 5.4 5.2 5.5 4.9 5.\n",
      "  5.5 4.9 4.4 5.1 5.  4.5 4.4 5.  5.1 4.8 5.1 4.6 5.3 5.  7.  6.4 6.9 5.5\n",
      "  6.5 5.7 6.3 4.9 6.6 5.2 5.  5.9 6.  6.1 5.6 6.7 5.6 5.8 6.2 5.6 5.9 6.1\n",
      "  6.3 6.1 6.4 6.6 6.8 6.7 6.  5.7 5.5 5.5 5.8 6.  5.4 6.  6.7 6.3 5.6 5.5\n",
      "  5.5 6.1 5.8 5.  5.6 5.7 5.7 6.2 5.1 5.7]\n",
      " [1.4 1.4 1.3 1.5 1.4 1.7 1.4 1.5 1.4 1.5 1.5 1.6 1.4 1.1 1.2 1.5 1.3 1.4\n",
      "  1.7 1.5 1.7 1.5 1.  1.7 1.9 1.6 1.6 1.5 1.4 1.6 1.6 1.5 1.5 1.4 1.5 1.2\n",
      "  1.3 1.5 1.3 1.5 1.3 1.3 1.3 1.6 1.9 1.4 1.6 1.4 1.5 1.4 4.7 4.5 4.9 4.\n",
      "  4.6 4.5 4.7 3.3 4.6 3.9 3.5 4.2 4.  4.7 3.6 4.4 4.5 4.1 4.5 3.9 4.8 4.\n",
      "  4.9 4.7 4.3 4.4 4.8 5.  4.5 3.5 3.8 3.7 3.9 5.1 4.5 4.5 4.7 4.4 4.1 4.\n",
      "  4.4 4.6 4.  3.3 4.2 4.2 4.2 4.3 3.  4.1]]\n"
     ]
    }
   ],
   "source": [
    "print(X.T)"
   ]
  },
  {
   "cell_type": "code",
   "execution_count": 13,
   "id": "de2be86b",
   "metadata": {},
   "outputs": [
    {
     "name": "stdout",
     "output_type": "stream",
     "text": [
      "[[252.64450696 274.30588802]\n",
      " [134.70975313 139.82493788]]\n",
      "[[276.95012932 275.68219364]\n",
      " [144.29000636 139.31754816]]\n",
      "(2, 2)\n",
      "---\n",
      "[[5.78274457 5.59371222 5.33593561 ... 8.81600568 6.88265251 8.2059363 ]\n",
      " [1.54658877 1.49874818 1.42757518 ... 2.48635183 1.91990728 2.32008554]\n",
      " [2.7008931  2.62331691 2.49411927 ... 4.62458419 3.5268363  4.32740082]\n",
      " ...\n",
      " [2.22371078 2.18566947 2.0580812  ... 5.02979959 3.65646201 4.75560241]\n",
      " [5.41437652 5.24274924 4.99698761 ... 8.50822257 6.60052604 7.93088568]\n",
      " [2.75242739 2.69131103 2.5449118  ... 5.56177079 4.11695342 5.23841414]]\n",
      "(100, 100)\n"
     ]
    }
   ],
   "source": [
    "# w_は(100, 2)\n",
    "# Xは(100, 2)\n",
    "print(X.T.dot(w_))  # (2,100)と(100,2)のドット積\n",
    "print(np.dot(X.T,s_))  # 同上\n",
    "print(np.dot(X.T,s_).shape)  # (2, 2)\n",
    "print(\"---\")\n",
    "print(np.dot(s_,X.T))  # (100,2)と(2,100)のドット積\n",
    "print(np.dot(s_,X.T).shape)  # (100, 100)"
   ]
  },
  {
   "cell_type": "code",
   "execution_count": 14,
   "id": "729ef5d0",
   "metadata": {},
   "outputs": [
    {
     "ename": "ValueError",
     "evalue": "shapes (100,2) and (100,2) not aligned: 2 (dim 1) != 100 (dim 0)",
     "output_type": "error",
     "traceback": [
      "\u001b[1;31m---------------------------------------------------------------------------\u001b[0m",
      "\u001b[1;31mValueError\u001b[0m                                Traceback (most recent call last)",
      "Cell \u001b[1;32mIn[14], line 1\u001b[0m\n\u001b[1;32m----> 1\u001b[0m \u001b[38;5;28mprint\u001b[39m(\u001b[43mnp\u001b[49m\u001b[38;5;241;43m.\u001b[39;49m\u001b[43mdot\u001b[49m\u001b[43m(\u001b[49m\u001b[43mX\u001b[49m\u001b[43m,\u001b[49m\u001b[43ms_\u001b[49m\u001b[43m)\u001b[49m)  \u001b[38;5;66;03m# (100,2)と(100,2)のドット積\u001b[39;00m\n\u001b[0;32m      2\u001b[0m \u001b[38;5;66;03m# 怒られる\u001b[39;00m\n",
      "File \u001b[1;32m<__array_function__ internals>:200\u001b[0m, in \u001b[0;36mdot\u001b[1;34m(*args, **kwargs)\u001b[0m\n",
      "\u001b[1;31mValueError\u001b[0m: shapes (100,2) and (100,2) not aligned: 2 (dim 1) != 100 (dim 0)"
     ]
    }
   ],
   "source": [
    "print(np.dot(X,s_))  # (100,2)と(100,2)のドット積\n",
    "# 怒られる"
   ]
  },
  {
   "cell_type": "code",
   "execution_count": null,
   "id": "156f0007",
   "metadata": {},
   "outputs": [],
   "source": []
  }
 ],
 "metadata": {
  "kernelspec": {
   "display_name": "Python 3 (ipykernel)",
   "language": "python",
   "name": "python3"
  },
  "language_info": {
   "codemirror_mode": {
    "name": "ipython",
    "version": 3
   },
   "file_extension": ".py",
   "mimetype": "text/x-python",
   "name": "python",
   "nbconvert_exporter": "python",
   "pygments_lexer": "ipython3",
   "version": "3.11.1"
  }
 },
 "nbformat": 4,
 "nbformat_minor": 5
}
